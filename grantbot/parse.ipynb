{
  "cells": [
    {
      "cell_type": "code",
      "execution_count": 1,
      "metadata": {
        "colab": {
          "base_uri": "https://localhost:8080/"
        },
        "id": "F1-wDPVrCNjd",
        "outputId": "07e47b67-e9f6-4b22-a470-3857d6432fce"
      },
      "outputs": [
        {
          "name": "stdout",
          "output_type": "stream",
          "text": [
            "Requirement already satisfied: requests in /usr/local/lib/python3.10/dist-packages (2.31.0)\n",
            "Requirement already satisfied: charset-normalizer<4,>=2 in /usr/local/lib/python3.10/dist-packages (from requests) (2.0.12)\n",
            "Requirement already satisfied: idna<4,>=2.5 in /usr/local/lib/python3.10/dist-packages (from requests) (3.4)\n",
            "Requirement already satisfied: urllib3<3,>=1.21.1 in /usr/local/lib/python3.10/dist-packages (from requests) (1.26.16)\n",
            "Requirement already satisfied: certifi>=2017.4.17 in /usr/local/lib/python3.10/dist-packages (from requests) (2023.7.22)\n",
            "Requirement already satisfied: certifi in /usr/local/lib/python3.10/dist-packages (2023.7.22)\n"
          ]
        }
      ],
      "source": [
        "!pip install --upgrade requests\n",
        "\n"
      ]
    },
    {
      "cell_type": "code",
      "execution_count": null,
      "metadata": {
        "id": "8CsHdGDqOKQf"
      },
      "outputs": [],
      "source": [
        "# !pip install python-dotenv\n",
        "\n",
        "#make file.env with SERVICE_KEY=\n",
        "\n",
        "# import os\n",
        "# from dotenv import load_dotenv\n",
        "\n",
        "# # Load the environment variables from the .env file\n",
        "# load_dotenv()\n",
        "\n",
        "# # Access the secret token key using the os.environ dictionary\n",
        "# service_key = os.environ.get('SERVICE_KEY')"
      ]
    },
    {
      "cell_type": "code",
      "execution_count": 73,
      "metadata": {
        "colab": {
          "base_uri": "https://localhost:8080/"
        },
        "id": "N4efXACBBV1J",
        "outputId": "0073cc18-1085-46b5-b7ab-2ffe33f796ac"
      },
      "outputs": [
        {
          "name": "stdout",
          "output_type": "stream",
          "text": [
            "https://www.smes.go.kr/fnct/apiReqst/extPblancInfo?token=ElpLIiHLRkLRYu1seBV3bNtnRCRPg6kZ65l4GlYqtdlx4nkkMdeI4iZ7otjbHKrm&strDt=20230802&endDt=20230802\n"
          ]
        },
        {
          "name": "stderr",
          "output_type": "stream",
          "text": [
            "/usr/local/lib/python3.10/dist-packages/urllib3/connectionpool.py:1056: InsecureRequestWarning: Unverified HTTPS request is being made to host 'www.smes.go.kr'. Adding certificate verification is strongly advised. See: https://urllib3.readthedocs.io/en/1.26.x/advanced-usage.html#ssl-warnings\n",
            "  warnings.warn(\n"
          ]
        },
        {
          "name": "stdout",
          "output_type": "stream",
          "text": [
            "4 개 검색완료\n",
            "Sample items from 'data':\n",
            "Item 1:\n",
            "  - pblancNm: 2023년도 소상공인 스마트기술 육성 기술개발사업(일반형 및 선도형 R&D과제) 시행계획 공고\n",
            "    creatDt: 2023-07-24 09:10:13\n",
            "    updDt: 2023-08-02 16:11:46\n",
            "    maxSportAmt: \n",
            "    pblancFileUrl: https://www.smes.go.kr/comm/getFile?srvcId=CNTCWRTANC&upperNo=117512866&fileTy=CNTCATTACH&fileNo=1\n",
            "    pblancFileNm: 1. (중기부 공고 제2023-409호) 2023년도 소상공인 스마트기술 육성 기술개발사업(일반형 및 선도형 R&D) 공고문_.hwp\n",
            "    reqstLinkInfo: /resources/nui/index.html?param1=10003@(@@)@@(@@)@@(@@)@2023%EB%85%84%EB%8F%84%20%EC%86%8C%EC%83%81%EA%B3%B5%EC%9D%B8%20%EC%8A%A4%EB%A7%88%ED%8A%B8%EA%B8%B0%EC%88%A0%20%EC%9C%A1%EC%84%B1%20%EA%B8%B0%EC%88%A0%EA%B0%9C%EB%B0%9C%EC%82%AC%EC%97%85(%EC%9D%BC%EB%B0%98%ED%98%95%20%EB%B0%8F%20%EC%84%A0%EB%8F%84%ED%98%95%20R&D%EA%B3%BC%EC%A0%9C)%20%EC%8B%9C%ED%96%89%EA%B3%84%ED%9A%8D%20%EA%B3%B5%EA%B3%A0@(@@)@@(@@)@@(@@)@%26ssoGubun=Y%26prgmId=P00526\n",
            "    refrncUrl: \n",
            "Item 2:\n",
            "  - pblancNm: 특성화고 참여기업 신청\n",
            "    creatDt: 2021-02-02 11:56:50\n",
            "    updDt: 2023-08-02 21:20:00\n",
            "    maxSportAmt: \n",
            "    pblancFileUrl: \n",
            "    pblancFileNm: \n",
            "    reqstLinkInfo: https://www.smes.go.kr/sanhakin/websquare/wq_smesDtlBsns.do?BSNSCLCODESE=0000003C&RQST=Y\n",
            "    refrncUrl: sanhakin.mss.go.kr\n",
            "Item 3:\n",
            "  - pblancNm: 미래성과공유기업 신청\n",
            "    creatDt: 2021-02-02 11:56:50\n",
            "    updDt: 2023-08-02 21:20:00\n",
            "    maxSportAmt: \n",
            "    pblancFileUrl: https://www.smes.go.kr/comm/getFile?srvcId=CNTCWRTANC&upperNo=10345674&fileTy=CNTCATTACH&fileNo=1\n",
            "    pblancFileNm: [붙임2]+2023년도+구매조건부+공동투자형+자유공모+2차+세부+지원내용(공고용).hwp\n",
            "    reqstLinkInfo: https://www.smes.go.kr/sanhakin/websquare/wq_smesDtlBsns.do?SMEBSC=EC01&RQST=Y\n",
            "    refrncUrl: https://www.smes.go.kr/sanhakin/websquare/wq_smesDtlBsns.do\n",
            "Item 4:\n",
            "  - pblancNm: 성과공유도입기업 신청\n",
            "    creatDt: 2021-02-02 11:56:50\n",
            "    updDt: 2023-08-02 21:20:00\n",
            "    maxSportAmt: \n",
            "    pblancFileUrl: \n",
            "    pblancFileNm: \n",
            "    reqstLinkInfo: https://www.smes.go.kr/sanhakin/websquare/wq_smesDtlBsns.do?SMEBSC=EC02&RQST=Y\n",
            "    refrncUrl: https://www.smes.go.kr/sanhakin/websquare/wq_smesDtlBsns.do\n"
          ]
        }
      ],
      "source": [
        "\n",
        "#중소벤처 24\n",
        "\n",
        "\n",
        "\n",
        "import requests\n",
        "from urllib.parse import quote\n",
        "import json\n",
        "\n",
        "url = 'https://www.smes.go.kr/fnct/apiReqst/extPblancInfo'\n",
        "\n",
        "secret = 'SECRET'\n",
        "endDt = '20230802'\n",
        "strDt = '20230802'\n",
        "\n",
        "# URL encode the token value\n",
        "encoded_secret = quote(secret, safe='')\n",
        "\n",
        "# Construct the full URL with the encoded token and parameters\n",
        "full_url = f'{url}?token={encoded_secret}&strDt={strDt}&endDt={endDt}'\n",
        "print(full_url)\n",
        "\n",
        "try:\n",
        "    response = requests.get(full_url , verify=False)\n",
        "\n",
        "    # Check if the request was successful (status code 200)\n",
        "    if response.status_code == 200:\n",
        "        # Parse the JSON response\n",
        "\n",
        "        data = response.json()\n",
        "        result_code = data[\"resultCd\"]\n",
        "        data_list = data[\"data\"]\n",
        "        print(len(data_list),\"개 검색완료\")\n",
        "\n",
        "        # Display a few sample items from 'data'\n",
        "        print(\"Sample items from 'data':\")\n",
        "        for idx, item in enumerate(data_list[:5]):  # Display the first 5 items as samples\n",
        "            print(f\"Item {idx + 1}:\")\n",
        "            print(\"  - pblancNm:\", item[\"pblancNm\"])\n",
        "            print(\"    creatDt:\", item[\"creatDt\"])\n",
        "            print(\"    updDt:\", item[\"updDt\"])\n",
        "            print(\"    maxSportAmt:\", item[\"maxSportAmt\"])\n",
        "            print(\"    pblancFileUrl:\", item[\"pblancFileUrl\"])\n",
        "            print(\"    pblancFileNm:\", item[\"pblancFileNm\"])\n",
        "            print(\"    reqstLinkInfo:\", item[\"reqstLinkInfo\"])\n",
        "            print(\"    refrncUrl:\", item[\"refrncUrl\"])\n",
        "            #print(item)\n",
        "\n",
        "\n",
        "\n",
        "\n",
        "        # Here, you can process the data as needed\n",
        "    else:\n",
        "        print(f'Error: {response.status_code} - {response.text}')\n",
        "except requests.exceptions.RequestException as e:\n",
        "    print(f'An error occurred: {e}')\n"
      ]
    },
    {
      "cell_type": "code",
      "execution_count": 10,
      "metadata": {
        "id": "i7E_XtF4B9_2"
      },
      "outputs": [],
      "source": [
        "#중소벤처 24  7월내 58개 검색\n",
        "#중소벤처 24 0802 4개 검색\n",
        "#kstartup  7월내 164개 검색\n",
        "#kstarup 0802 5개 검색"
      ]
    },
    {
      "cell_type": "code",
      "execution_count": 74,
      "metadata": {
        "colab": {
          "base_uri": "https://localhost:8080/"
        },
        "id": "UNNoUi9WFC2n",
        "outputId": "34da423b-a69a-40b8-a9b0-48f4e048cbe6"
      },
      "outputs": [
        {
          "name": "stdout",
          "output_type": "stream",
          "text": [
            "164 개 검색완료\n",
            "Item 1:\n",
            "  - Title: [성남특허은행] 2023 기술자료 임치 지원 사업 참가기업 모집\n",
            "    Support Type: 기술개발(R&amp;D)\n",
            "    Business Title: [성남특허은행] 2023 기술자료 임치 지원 사업 참가기업 모집\n",
            "    Area Name: 경기\n",
            "    Start Date: 2023-07-10 00:00:00\n",
            "    End Date: 2023-11-30 18:00:00\n",
            "    Detail URL: https://www.k-startup.go.kr/web/contents/bizpbanc-ongoing.do?schM=view&pbancSn=165894\n",
            "    View Count: 432\n",
            "    PRCH CNADR No: 031-782-3072\n",
            "    Organization Name: 성남산업진흥원\n",
            "    Post Target: 일반기업,1인 창조기업\n",
            "    Post Target Age: 만 20세 미만,만 20세 이상 ~ 만 39세 이하,만 40세 이상\n",
            "    Post Target Com Age: 예비창업자,1년미만,2년미만,3년미만,5년미만,7년미만,10년미만\n",
            "    Insert Date: 2023-07-31 15:22:30\n",
            "    Supervising Institution Class Code Name: 공공기관\n",
            "    Business Purchase Department Name: 정책연구부\n",
            "    Belonging Gvdp Code Name: 성남시청\n",
            "Item 2:\n",
            "  - Title: 2023년 익산형 MVP 지원사업\n",
            "    Support Type: 사업화\n",
            "    Business Title: 익산형 MVP 지원\n",
            "    Area Name: 전국\n",
            "    Start Date: 2023-07-31 09:00:00\n",
            "    End Date: 2023-08-14 23:59:00\n",
            "    Detail URL: https://www.k-startup.go.kr/web/contents/bizpbanc-ongoing.do?schM=view&pbancSn=165892\n",
            "    View Count: 669\n",
            "    PRCH CNADR No: 063-859-7380\n",
            "    Organization Name: 익산시청\n",
            "    Post Target: 청소년,대학생,일반인\n",
            "    Post Target Age: 만 20세 미만,만 20세 이상 ~ 만 39세 이하\n",
            "    Post Target Com Age: 예비창업자,3년미만\n",
            "    Insert Date: 2023-07-31 14:43:38\n",
            "    Supervising Institution Class Code Name: 지자체\n",
            "    Business Purchase Department Name: 기업일자리과\n",
            "    Belonging Gvdp Code Name: 익산시청\n",
            "Item 3:\n",
            "  - Title: 부산사하창업비즈니스센터 신규 입주기업 모집공고&#40;연장&#41;\n",
            "    Support Type: 시설ㆍ공간ㆍ보육\n",
            "    Business Title: 부산사하창업비즈니스센터 신규 입주기업 모집공고&#40;연장&#41;\n",
            "    Area Name: 부산\n",
            "    Start Date: 2023-07-31 09:00:00\n",
            "    End Date: 2023-08-06 18:00:00\n",
            "    Detail URL: https://www.k-startup.go.kr/web/contents/bizpbanc-ongoing.do?schM=view&pbancSn=165888\n",
            "    View Count: 273\n",
            "    PRCH CNADR No: 051-201-0191\n",
            "    Organization Name: 부산사하창업비즈니스센터\n",
            "    Post Target: 1인 창조기업\n",
            "    Post Target Age: 만 20세 이상 ~ 만 39세 이하,만 40세 이상\n",
            "    Post Target Com Age: 예비창업자,1년미만,2년미만,3년미만\n",
            "    Insert Date: 2023-07-31 11:01:58\n",
            "    Supervising Institution Class Code Name: 공공기관\n",
            "    Business Purchase Department Name: 사하센터\n",
            "    Belonging Gvdp Code Name: \n",
            "Item 4:\n",
            "  - Title: [사전모집] 제26회 포스코 아이디어 마켓 플레이스&#40;POSCO IMP&#41; 참가기업 모집\n",
            "    Support Type: 사업화\n",
            "    Business Title: [사전모집] 제26회 포스코 아이디어 마켓 플레이스&#40;POSCO IMP&#41; 참가기업 모집\n",
            "    Area Name: 전국\n",
            "    Start Date: 2023-07-31 00:00:00\n",
            "    End Date: 2023-08-13 23:59:00\n",
            "    Detail URL: https://www.k-startup.go.kr/web/contents/bizpbanc-ongoing.do?schM=view&pbancSn=165887\n",
            "    View Count: 386\n",
            "    PRCH CNADR No: 070-8884-3333\n",
            "    Organization Name: 포스코\n",
            "    Post Target: 청소년,대학생,일반인,대학,연구기관,일반기업,1인 창조기업\n",
            "    Post Target Age: 만 20세 미만,만 20세 이상 ~ 만 39세 이하,만 40세 이상\n",
            "    Post Target Com Age: 예비창업자,1년미만,2년미만,3년미만\n",
            "    Insert Date: 2023-07-31 11:00:57\n",
            "    Supervising Institution Class Code Name: 민간\n",
            "    Business Purchase Department Name: 넥스트유니콘 POSCO IMP 운영사무국\n",
            "    Belonging Gvdp Code Name: \n",
            "Item 5:\n",
            "  - Title: [2023 대전 스타트업 스쿨] 스타트업이 꼭 알아야하는 스톡옵션 핵심 TIP!\n",
            "    Support Type: 창업교육\n",
            "    Business Title: [2023 대전 스타트업 스쿨] 스타트업이 꼭 알아야하는 스톡옵션 핵심 TIP!\n",
            "    Area Name: 전국\n",
            "    Start Date: 2023-07-31 15:00:00\n",
            "    End Date: 2023-08-08 14:00:00\n",
            "    Detail URL: https://www.k-startup.go.kr/web/contents/bizpbanc-ongoing.do?schM=view&pbancSn=165886\n",
            "    View Count: 481\n",
            "    PRCH CNADR No: 042-385-0683\n",
            "    Organization Name: 대전창조경제혁신센터\n",
            "    Post Target: 청소년,대학생,일반인,대학,연구기관,일반기업,1인 창조기업\n",
            "    Post Target Age: 만 20세 미만,만 20세 이상 ~ 만 39세 이하,만 40세 이상\n",
            "    Post Target Com Age: 예비창업자,1년미만,2년미만,3년미만,5년미만,7년미만,10년미만\n",
            "    Insert Date: 2023-07-31 10:55:22\n",
            "    Supervising Institution Class Code Name: 공공기관\n",
            "    Business Purchase Department Name: 창업생태계본부\n",
            "    Belonging Gvdp Code Name: \n"
          ]
        }
      ],
      "source": [
        "#kstartup\n",
        "\n",
        "import requests\n",
        "\n",
        "# Set your service key received from the public data portal\n",
        "service_key = 'SECRET'\n",
        "\n",
        "# Set the query parameters\n",
        "query_params = {\n",
        "    'serviceKey': service_key,\n",
        "    'pageNo': '1',           # Page number you want to retrieve\n",
        "    'numOfRows': '5',       # Number of rows per page\n",
        "    'startDate': '20230701', # Start date for the announcement list (replace with your desired date)\n",
        "    'endDate': '20230731',   # End date for the announcement list (replace with your desired date)\n",
        "    'openYn': 'Y',           # Only retrieve open projects\n",
        "    'dataType' :'json',\n",
        "}\n",
        "\n",
        "# API endpoint URL\n",
        "api_url = 'http://apis.data.go.kr/B552735/k-startup/kisedGWAPI/getAnnouncementList'\n",
        "\n",
        "try:\n",
        "    # Make the API request\n",
        "    response = requests.get(api_url, params=query_params)\n",
        "\n",
        "    # Check if the request was successful (status code 200)\n",
        "    if response.status_code == 200:\n",
        "        # Parse the JSON response\n",
        "        #print(response.text)\n",
        "\n",
        "        data = response.json()\n",
        "\n",
        "\n",
        "\n",
        "        result_code = data[\"response\"][\"header\"][\"resultCode\"]\n",
        "        #print(result_code)\n",
        "\n",
        "        # Check if the result code is successful\n",
        "        if result_code == \"00\":\n",
        "            # Access the list of business announcements\n",
        "            business_announcements = data[\"response\"][\"body\"][\"items\"]\n",
        "            totalcount = data[\"response\"][\"body\"][\"totalCount\"]\n",
        "\n",
        "            print(totalcount,\"개 검색완료\")\n",
        "            for idx, announcement  in enumerate(business_announcements[:5]):\n",
        "              item = announcement['item']\n",
        "              print(f\"Item {idx + 1}:\")\n",
        "\n",
        "              print(\"  - Title:\", item[\"title\"])\n",
        "              print(\"    Support Type:\", item[\"supporttype\"])\n",
        "              print(\"    Business Title:\", item[\"biztitle\"])\n",
        "              print(\"    Area Name:\", item[\"areaname\"])\n",
        "              print(\"    Start Date:\", item[\"startdate\"])\n",
        "              print(\"    End Date:\", item[\"enddate\"])\n",
        "              print(\"    Detail URL:\", item[\"detailurl\"])\n",
        "              print(\"    View Count:\", item[\"viewcount\"])\n",
        "              print(\"    PRCH CNADR No:\", item[\"prchCnadrNo\"])\n",
        "              print(\"    Organization Name:\", item[\"organizationname\"])\n",
        "              print(\"    Post Target:\", item[\"posttarget\"])\n",
        "              print(\"    Post Target Age:\", item[\"posttargetage\"])\n",
        "              print(\"    Post Target Com Age:\", item[\"posttargetcomage\"])\n",
        "              print(\"    Insert Date:\", item[\"insertdate\"])\n",
        "              print(\"    Supervising Institution Class Code Name:\", item[\"sprvInstClssCdNm\"])\n",
        "              print(\"    Business Purchase Department Name:\", item[\"bizPrchDprtNm\"])\n",
        "              print(\"    Belonging Gvdp Code Name:\", item[\"blngGvdpCdNm\"])\n",
        "                # Add more details as needed\n",
        "        else:\n",
        "            print(f\"Error: {result_code} - {data['response']['header']['resultCode']}\")\n",
        "    else:\n",
        "        print(f\"Error: {response.status_code} - {response.text}\")\n",
        "except requests.exceptions.RequestException as e:\n",
        "    print(f\"An error occurred: {e, repr(e)}\")"
      ]
    },
    {
      "cell_type": "code",
      "execution_count": 67,
      "metadata": {
        "colab": {
          "base_uri": "https://localhost:8080/"
        },
        "id": "7Du9XQ4kHdTK",
        "outputId": "f034facb-2dff-42cc-ac3a-cc3197c8d655"
      },
      "outputs": [
        {
          "data": {
            "text/plain": [
              "{'item': {'postsn': '165890',\n",
              "  'biztitle': '제8회 IPO 기술특례상장 지원사업 설명회 모집 공고',\n",
              "  'supporttype': '멘토링ㆍ컨설팅',\n",
              "  'title': '제8회 IPO 기술특례상장 지원사업 설명회 모집 공고',\n",
              "  'areaname': '전국',\n",
              "  'organizationname': '한국중소기업발전협회',\n",
              "  'posttarget': '일반인,대학,연구기관,일반기업,1인 창조기업',\n",
              "  'posttargetage': '만 20세 이상 ~ 만 39세 이하,만 40세 이상',\n",
              "  'posttargetcomage': '1년미만,2년미만,3년미만,5년미만,7년미만,10년미만',\n",
              "  'startdate': '2023-08-01 09:00:00',\n",
              "  'enddate': '2023-08-31 17:00:00',\n",
              "  'insertdate': '2023-07-31 14:22:56',\n",
              "  'viewcount': '310',\n",
              "  'detailurl': 'https://www.k-startup.go.kr/web/contents/bizpbanc-ongoing.do?schM=view&pbancSn=165890',\n",
              "  'prchCnadrNo': '02-858-3411',\n",
              "  'sprvInstClssCdNm': '민간',\n",
              "  'bizPrchDprtNm': '경영지원',\n",
              "  'blngGvdpCdNm': ''}}"
            ]
          },
          "execution_count": 67,
          "metadata": {},
          "output_type": "execute_result"
        }
      ],
      "source": [
        "item"
      ]
    },
    {
      "cell_type": "code",
      "execution_count": 74,
      "metadata": {
        "id": "QItVAr3VJAaf"
      },
      "outputs": [],
      "source": []
    },
    {
      "cell_type": "code",
      "execution_count": null,
      "metadata": {
        "id": "DwOQJhVKKp4J"
      },
      "outputs": [],
      "source": []
    }
  ],
  "metadata": {
    "colab": {
      "provenance": []
    },
    "kernelspec": {
      "display_name": "Python 3",
      "name": "python3"
    },
    "language_info": {
      "name": "python"
    }
  },
  "nbformat": 4,
  "nbformat_minor": 0
}
